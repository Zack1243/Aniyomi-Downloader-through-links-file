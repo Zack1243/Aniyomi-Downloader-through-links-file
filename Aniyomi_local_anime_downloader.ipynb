{
  "nbformat": 4,
  "nbformat_minor": 0,
  "metadata": {
    "colab": {
      "provenance": [],
      "authorship_tag": "ABX9TyO9WWIJgE5aXqEJOH4+iUNE",
      "include_colab_link": true
    },
    "kernelspec": {
      "name": "python3",
      "display_name": "Python 3"
    },
    "language_info": {
      "name": "python"
    }
  },
  "cells": [
    {
      "cell_type": "markdown",
      "metadata": {
        "id": "view-in-github",
        "colab_type": "text"
      },
      "source": [
        "<a href=\"https://colab.research.google.com/github/Zack1243/Aniyomi-Downloader-through-links-file/blob/Fine-tuning-details/Aniyomi_local_anime_downloader.ipynb\" target=\"_parent\"><img src=\"https://colab.research.google.com/assets/colab-badge.svg\" alt=\"Open In Colab\"/></a>"
      ]
    },
    {
      "cell_type": "markdown",
      "source": [
        "## Libraries"
      ],
      "metadata": {
        "id": "TrPor6WDzD1Q"
      }
    },
    {
      "cell_type": "code",
      "execution_count": 1,
      "metadata": {
        "colab": {
          "base_uri": "https://localhost:8080/"
        },
        "id": "zIV5-SKeyA1C",
        "outputId": "3fbdf2bd-ff09-444e-fae4-951a5c8d3201"
      },
      "outputs": [
        {
          "output_type": "stream",
          "name": "stdout",
          "text": [
            "Collecting yt-dlp[default]\n",
            "  Downloading yt_dlp-2024.5.30.232720.dev0-py3-none-any.whl (3.1 MB)\n",
            "\u001b[2K     \u001b[90m━━━━━━━━━━━━━━━━━━━━━━━━━━━━━━━━━━━━━━━━\u001b[0m \u001b[32m3.1/3.1 MB\u001b[0m \u001b[31m23.4 MB/s\u001b[0m eta \u001b[36m0:00:00\u001b[0m\n",
            "\u001b[?25hCollecting brotli (from yt-dlp[default])\n",
            "  Downloading Brotli-1.1.0-cp310-cp310-manylinux_2_5_x86_64.manylinux1_x86_64.manylinux_2_12_x86_64.manylinux2010_x86_64.whl (3.0 MB)\n",
            "\u001b[2K     \u001b[90m━━━━━━━━━━━━━━━━━━━━━━━━━━━━━━━━━━━━━━━━\u001b[0m \u001b[32m3.0/3.0 MB\u001b[0m \u001b[31m48.3 MB/s\u001b[0m eta \u001b[36m0:00:00\u001b[0m\n",
            "\u001b[?25hRequirement already satisfied: certifi in /usr/local/lib/python3.10/dist-packages (from yt-dlp[default]) (2024.2.2)\n",
            "Collecting mutagen (from yt-dlp[default])\n",
            "  Downloading mutagen-1.47.0-py3-none-any.whl (194 kB)\n",
            "\u001b[2K     \u001b[90m━━━━━━━━━━━━━━━━━━━━━━━━━━━━━━━━━━━━━━━━\u001b[0m \u001b[32m194.4/194.4 kB\u001b[0m \u001b[31m13.2 MB/s\u001b[0m eta \u001b[36m0:00:00\u001b[0m\n",
            "\u001b[?25hCollecting pycryptodomex (from yt-dlp[default])\n",
            "  Downloading pycryptodomex-3.20.0-cp35-abi3-manylinux_2_17_x86_64.manylinux2014_x86_64.whl (2.1 MB)\n",
            "\u001b[2K     \u001b[90m━━━━━━━━━━━━━━━━━━━━━━━━━━━━━━━━━━━━━━━━\u001b[0m \u001b[32m2.1/2.1 MB\u001b[0m \u001b[31m40.4 MB/s\u001b[0m eta \u001b[36m0:00:00\u001b[0m\n",
            "\u001b[?25hRequirement already satisfied: requests<3,>=2.31.0 in /usr/local/lib/python3.10/dist-packages (from yt-dlp[default]) (2.31.0)\n",
            "Requirement already satisfied: urllib3<3,>=1.26.17 in /usr/local/lib/python3.10/dist-packages (from yt-dlp[default]) (2.0.7)\n",
            "Collecting websockets>=12.0 (from yt-dlp[default])\n",
            "  Downloading websockets-12.0-cp310-cp310-manylinux_2_5_x86_64.manylinux1_x86_64.manylinux_2_17_x86_64.manylinux2014_x86_64.whl (130 kB)\n",
            "\u001b[2K     \u001b[90m━━━━━━━━━━━━━━━━━━━━━━━━━━━━━━━━━━━━━━━━\u001b[0m \u001b[32m130.2/130.2 kB\u001b[0m \u001b[31m15.0 MB/s\u001b[0m eta \u001b[36m0:00:00\u001b[0m\n",
            "\u001b[?25hRequirement already satisfied: charset-normalizer<4,>=2 in /usr/local/lib/python3.10/dist-packages (from requests<3,>=2.31.0->yt-dlp[default]) (3.3.2)\n",
            "Requirement already satisfied: idna<4,>=2.5 in /usr/local/lib/python3.10/dist-packages (from requests<3,>=2.31.0->yt-dlp[default]) (3.7)\n",
            "Installing collected packages: brotli, websockets, pycryptodomex, mutagen, yt-dlp\n",
            "Successfully installed brotli-1.1.0 mutagen-1.47.0 pycryptodomex-3.20.0 websockets-12.0 yt-dlp-2024.5.30.232720.dev0\n"
          ]
        }
      ],
      "source": [
        "import requests\n",
        "import json\n",
        "from google.colab import files\n",
        "import os\n",
        "from PIL import Image\n",
        "import re\n",
        "import shutil\n",
        "import subprocess\n",
        "import sys\n",
        "!python3 -m pip install -U --pre \"yt-dlp[default]\"\n",
        "import yt_dlp\n",
        "import zipfile"
      ]
    },
    {
      "cell_type": "markdown",
      "source": [
        "## Filter json file"
      ],
      "metadata": {
        "id": "XWnihHjQ4qgA"
      }
    },
    {
      "cell_type": "code",
      "source": [
        "def filter_details(file, url):\n",
        "\n",
        "  # Get correct format options\n",
        "  with open(file, 'r') as f:\n",
        "    data = json.load(f)\n",
        "    transformed_data = {\n",
        "        \"title\": data.get(\"title\", \"\"),\n",
        "        \"author\": data.get(\"uploader\", \"\"),\n",
        "        \"artist\": data.get(\"uploader\", \"\"),\n",
        "        \"description\": data.get(\"description\", \"\"),\n",
        "        \"genre\": data.get(\"tags\", []),\n",
        "        # Trying 3 for the status value to see if artist/uploader works\n",
        "        \"status\": data.get(\"status\", \"3\"),\n",
        "        \"url\": url,\n",
        "\n",
        "        #Trying to do the date stuff\n",
        "        \"date_upload\": data.get(\"upload_date\", \"\"),\n",
        "        \"episode_number\": 1,\n",
        "    }\n",
        "\n",
        "    url_pattern = r'https?://\\S+|www\\.\\S+'\n",
        "\n",
        "    # Replace URLs with an empty string\n",
        "    transformed_data[\"description\"] = re.sub(url_pattern, '', transformed_data[\"description\"])\n",
        "\n",
        "    # Rewrite .json files WITH PROPER SYNTAX!!!\n",
        "    with open(file, 'w') as f:\n",
        "      json.dump(transformed_data, f, indent=4)"
      ],
      "metadata": {
        "id": "JGgSnx1Qy-l1"
      },
      "execution_count": 2,
      "outputs": []
    },
    {
      "cell_type": "markdown",
      "source": [
        "## Extract url title and make directory for it"
      ],
      "metadata": {
        "id": "MsTn-xiW1A8o"
      }
    },
    {
      "cell_type": "code",
      "source": [
        "def downloader(url):\n",
        "    try:\n",
        "        # Get the video title\n",
        "        result = subprocess.run([\n",
        "            'yt-dlp',\n",
        "            '--no-playlist',\n",
        "            '--skip-download',\n",
        "            '--get-title',\n",
        "            url\n",
        "        ], capture_output=True, text=True, check=True)\n",
        "\n",
        "        # Extract the title from the result\n",
        "        title = result.stdout.strip()\n",
        "\n",
        "        # Make path to new directory including video's title\n",
        "        path = os.path.join(os.getcwd(), title)\n",
        "\n",
        "        # Check if path exists, else make one\n",
        "        if not os.path.exists(path):\n",
        "            os.makedirs(path)\n",
        "\n",
        "        # Make a list for downloading the video\n",
        "        subprocess.run([\n",
        "            'yt-dlp',\n",
        "            '--convert-thumbnails', 'jpg',\n",
        "            '--progress',\n",
        "            '--no-playlist',\n",
        "            '--write-thumbnail',\n",
        "            '--embed-thumbnail',\n",
        "            '--add-metadata',\n",
        "            '--write-info-json',\n",
        "            '--remux-video', 'mkv',\n",
        "            '-f', 'bestvideo[height<=1080]+bestaudio/best[height<=1080]/best',\n",
        "            '-o', f'{path}/%(title)s.%(ext)s',\n",
        "            url\n",
        "        ], check=True)\n",
        "\n",
        "\n",
        "        # Rename cover image to \"cover.jpg\"\n",
        "        if os.path.exists(f'{path}/{title}.jpg'):\n",
        "          os.rename(f'{path}/{title}.jpg', f'{path}/cover.jpg')\n",
        "        else:\n",
        "          print(\"No cover image found.\")\n",
        "\n",
        "        #TODO: Make sure .nomedia is put in correctly\n",
        "        os.chdir(path)\n",
        "        with open('.nomedia', 'w') as makefile:\n",
        "          pass  # Create an empty .nomedia file\n",
        "        os.chdir('..')\n",
        "\n",
        "        # Change info.json file to be \"details.json\"\n",
        "        if os.path.exists(f'{path}/{title}.info.json'):\n",
        "          os.rename(f'{path}/{title}.info.json', f'{path}/details.json')\n",
        "\n",
        "          # Rewrite details.json to aniyomi style guidelines\n",
        "          filter_details(f'{path}/details.json', url)\n",
        "        else:\n",
        "          print(\"No info file found.\")\n",
        "\n",
        "    except subprocess.CalledProcessError as e:\n",
        "        print(\"………………………………………………………………………………………………………\")\n",
        "        print(f\"An error occurred: {e}\")\n",
        "        print(f\"Failed to download url: {url}\")\n",
        "        print(\"………………………………………………………………………………………………………\")"
      ],
      "metadata": {
        "id": "JkDqi-gAy-q3"
      },
      "execution_count": 7,
      "outputs": []
    },
    {
      "cell_type": "markdown",
      "source": [
        "## Example of aniyomi style .json file"
      ],
      "metadata": {
        "id": "KoLRfDuKPK-8"
      }
    },
    {
      "cell_type": "markdown",
      "source": [
        "\n",
        "```\n",
        "{\n",
        "\t\"title\": \"Example Title\",\n",
        "\t\"author\": \"Example Author\",\n",
        "\t\"artist\": \"Example Artist\",\n",
        "\t\"description\": \"Example Description\",\n",
        "\t\"genre\": [\"genre 1\", \"genre 2\", \"etc\"],\n",
        "\t\"status\": \"0\",\n",
        "\t\"_status values\": [\"0 = Unknown\", \"1 = Ongoing\", \"2 = Completed\", \"3 = Licensed\", \"4 = Publishing finished\", \"5 = Cancelled\", \"6 = On hiatus\"]\n",
        "}\n",
        "```\n"
      ],
      "metadata": {
        "id": "rcEfVrjsPDFQ"
      }
    },
    {
      "cell_type": "markdown",
      "source": [
        "## Zip and download files"
      ],
      "metadata": {
        "id": "h3cnmhXPUnkX"
      }
    },
    {
      "cell_type": "code",
      "source": [
        "def zip_and_download_subdirectories():\n",
        "    # Get the current working directory\n",
        "    current_directory = os.getcwd()\n",
        "\n",
        "    # Get a list of all subdirectories\n",
        "    subdirectories = [d for d in os.listdir(current_directory) if os.path.isdir(os.path.join(current_directory, d))]\n",
        "\n",
        "    # Create a zip file\n",
        "    with zipfile.ZipFile('anizip.zip', 'w') as zip_file:\n",
        "        # Iterate through each subdirectory\n",
        "        for subdirectory in subdirectories:\n",
        "            # Get a list of all files in the subdirectory\n",
        "            files_in_subdir = [os.path.join(subdirectory, f) for f in os.listdir(os.path.join(current_directory, subdirectory))]\n",
        "\n",
        "            # Iterate through each file in the subdirectory\n",
        "            for file_path in files_in_subdir:\n",
        "                # Add the file to the zip file\n",
        "                zip_file.write(os.path.join(current_directory, file_path), arcname=file_path)\n",
        "\n",
        "    # Download the zip file\n",
        "    files.download('anizip.zip')\n"
      ],
      "metadata": {
        "id": "x6pdC8FmUnZL"
      },
      "execution_count": 4,
      "outputs": []
    },
    {
      "cell_type": "markdown",
      "source": [
        "## Delete videos/images"
      ],
      "metadata": {
        "id": "FcFMZf3gDfVD"
      }
    },
    {
      "cell_type": "code",
      "source": [
        "def purge_content():\n",
        "    # Get the current working directory\n",
        "    current_directory = os.getcwd()\n",
        "\n",
        "    # Get a list of all subdirectories\n",
        "    subdirectories = [d for d in os.listdir(current_directory) if os.path.isdir(os.path.join(current_directory, d))]\n",
        "\n",
        "    # Iterate through each subdirectory\n",
        "    for subdirectory in subdirectories:\n",
        "        subdirectory_path = os.path.join(current_directory, subdirectory)\n",
        "        # Get a list of all files in the subdirectory\n",
        "        files_in_subdir = [os.path.join(subdirectory_path, f) for f in os.listdir(subdirectory_path)]\n",
        "\n",
        "        # Iterate through each file in the subdirectory\n",
        "        for file_path in files_in_subdir:\n",
        "            # Delete the file\n",
        "            os.remove(file_path)\n",
        "        # Delete the subdirectory\n",
        "        os.rmdir(subdirectory_path)"
      ],
      "metadata": {
        "id": "EM-iiujgDhrz"
      },
      "execution_count": 5,
      "outputs": []
    },
    {
      "cell_type": "markdown",
      "source": [
        "## Get urls"
      ],
      "metadata": {
        "id": "28payZcg0ABc"
      }
    },
    {
      "cell_type": "code",
      "source": [
        "if 'anizip' not in os.getcwd():\n",
        "  try:\n",
        "    os.mkdir(os.path.join(os.getcwd(), 'anizip'))\n",
        "    os.chdir(os.path.join(os.getcwd(), 'anizip'))\n",
        "  except:\n",
        "    os.chdir(os.path.join(os.getcwd(), 'anizip'))\n",
        "\n",
        "# Get urls from user\n",
        "urls = input(\"Enter urls separated by space or enter: \")\n",
        "urls = urls.split()\n",
        "\n",
        "# Download each url\n",
        "for url in urls:\n",
        "  downloader(url)\n",
        "\n",
        "# Zip files and download\n",
        "zip_and_download_subdirectories()\n",
        "\n",
        "# Get rid of the videos/images\n",
        "purge_content()"
      ],
      "metadata": {
        "colab": {
          "base_uri": "https://localhost:8080/",
          "height": 35
        },
        "id": "46AAmmKXy-wz",
        "outputId": "f2b6f518-0e91-490a-bd51-7f836a8b834b"
      },
      "execution_count": 9,
      "outputs": [
        {
          "name": "stdout",
          "output_type": "stream",
          "text": [
            "Enter urls separated by space or enter: https://www.youtube.com/watch?v=nM06J9XwY8Y\n"
          ]
        },
        {
          "output_type": "display_data",
          "data": {
            "text/plain": [
              "<IPython.core.display.Javascript object>"
            ],
            "application/javascript": [
              "\n",
              "    async function download(id, filename, size) {\n",
              "      if (!google.colab.kernel.accessAllowed) {\n",
              "        return;\n",
              "      }\n",
              "      const div = document.createElement('div');\n",
              "      const label = document.createElement('label');\n",
              "      label.textContent = `Downloading \"${filename}\": `;\n",
              "      div.appendChild(label);\n",
              "      const progress = document.createElement('progress');\n",
              "      progress.max = size;\n",
              "      div.appendChild(progress);\n",
              "      document.body.appendChild(div);\n",
              "\n",
              "      const buffers = [];\n",
              "      let downloaded = 0;\n",
              "\n",
              "      const channel = await google.colab.kernel.comms.open(id);\n",
              "      // Send a message to notify the kernel that we're ready.\n",
              "      channel.send({})\n",
              "\n",
              "      for await (const message of channel.messages) {\n",
              "        // Send a message to notify the kernel that we're ready.\n",
              "        channel.send({})\n",
              "        if (message.buffers) {\n",
              "          for (const buffer of message.buffers) {\n",
              "            buffers.push(buffer);\n",
              "            downloaded += buffer.byteLength;\n",
              "            progress.value = downloaded;\n",
              "          }\n",
              "        }\n",
              "      }\n",
              "      const blob = new Blob(buffers, {type: 'application/binary'});\n",
              "      const a = document.createElement('a');\n",
              "      a.href = window.URL.createObjectURL(blob);\n",
              "      a.download = filename;\n",
              "      div.appendChild(a);\n",
              "      a.click();\n",
              "      div.remove();\n",
              "    }\n",
              "  "
            ]
          },
          "metadata": {}
        },
        {
          "output_type": "display_data",
          "data": {
            "text/plain": [
              "<IPython.core.display.Javascript object>"
            ],
            "application/javascript": [
              "download(\"download_2c329c81-2e4e-420b-8fbd-139756c85659\", \"anizip.zip\", 3533821)"
            ]
          },
          "metadata": {}
        }
      ]
    }
  ]
}