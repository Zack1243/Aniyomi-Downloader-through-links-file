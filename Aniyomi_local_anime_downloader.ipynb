{
  "nbformat": 4,
  "nbformat_minor": 0,
  "metadata": {
    "colab": {
      "provenance": [],
      "authorship_tag": "ABX9TyP2N7m/hJN6dOxv0yFZRnR2",
      "include_colab_link": true
    },
    "kernelspec": {
      "name": "python3",
      "display_name": "Python 3"
    },
    "language_info": {
      "name": "python"
    }
  },
  "cells": [
    {
      "cell_type": "markdown",
      "metadata": {
        "id": "view-in-github",
        "colab_type": "text"
      },
      "source": [
        "<a href=\"https://colab.research.google.com/github/Zack1243/Aniyomi-Downloader-through-links-file/blob/main/Aniyomi_local_anime_downloader.ipynb\" target=\"_parent\"><img src=\"https://colab.research.google.com/assets/colab-badge.svg\" alt=\"Open In Colab\"/></a>"
      ]
    },
    {
      "cell_type": "markdown",
      "source": [
        "## Libraries"
      ],
      "metadata": {
        "id": "TrPor6WDzD1Q"
      }
    },
    {
      "cell_type": "code",
      "execution_count": 37,
      "metadata": {
        "colab": {
          "base_uri": "https://localhost:8080/"
        },
        "id": "zIV5-SKeyA1C",
        "outputId": "b2f4feff-fd2f-49e8-fed6-ef83347632a8"
      },
      "outputs": [
        {
          "output_type": "stream",
          "name": "stdout",
          "text": [
            "Requirement already satisfied: yt-dlp[default] in /usr/local/lib/python3.10/dist-packages (2024.5.29.232700.dev0)\n",
            "Requirement already satisfied: brotli in /usr/local/lib/python3.10/dist-packages (from yt-dlp[default]) (1.1.0)\n",
            "Requirement already satisfied: certifi in /usr/local/lib/python3.10/dist-packages (from yt-dlp[default]) (2024.2.2)\n",
            "Requirement already satisfied: mutagen in /usr/local/lib/python3.10/dist-packages (from yt-dlp[default]) (1.47.0)\n",
            "Requirement already satisfied: pycryptodomex in /usr/local/lib/python3.10/dist-packages (from yt-dlp[default]) (3.20.0)\n",
            "Requirement already satisfied: requests<3,>=2.31.0 in /usr/local/lib/python3.10/dist-packages (from yt-dlp[default]) (2.31.0)\n",
            "Requirement already satisfied: urllib3<3,>=1.26.17 in /usr/local/lib/python3.10/dist-packages (from yt-dlp[default]) (2.0.7)\n",
            "Requirement already satisfied: websockets>=12.0 in /usr/local/lib/python3.10/dist-packages (from yt-dlp[default]) (12.0)\n",
            "Requirement already satisfied: charset-normalizer<4,>=2 in /usr/local/lib/python3.10/dist-packages (from requests<3,>=2.31.0->yt-dlp[default]) (3.3.2)\n",
            "Requirement already satisfied: idna<4,>=2.5 in /usr/local/lib/python3.10/dist-packages (from requests<3,>=2.31.0->yt-dlp[default]) (3.7)\n"
          ]
        }
      ],
      "source": [
        "import requests\n",
        "import json\n",
        "from google.colab import files\n",
        "import os\n",
        "from PIL import Image\n",
        "import re\n",
        "import subprocess\n",
        "import sys\n",
        "!python3 -m pip install -U --pre \"yt-dlp[default]\"\n",
        "import yt_dlp\n",
        "import zipfile"
      ]
    },
    {
      "cell_type": "markdown",
      "source": [
        "## Filter json file"
      ],
      "metadata": {
        "id": "XWnihHjQ4qgA"
      }
    },
    {
      "cell_type": "code",
      "source": [
        "def filter_details(file):\n",
        "\n",
        "  # Get correct format options\n",
        "  with open(file, 'r') as f:\n",
        "    data = json.load(f)\n",
        "    transformed_data = {\n",
        "        \"title\": data.get(\"title\", \"\"),\n",
        "        \"author\": data.get(\"uploader\", \"\"),\n",
        "        \"artist\": data.get(\"uploader\", \"\"),\n",
        "        \"description\": data.get(\"description\", \"\"),\n",
        "        \"genre\": data.get(\"tags\", []),\n",
        "        \"status\": data.get(\"status\", \"0\")\n",
        "    }\n",
        "\n",
        "    url_pattern = r'https?://\\S+|www\\.\\S+'\n",
        "\n",
        "    # Replace URLs with an empty string\n",
        "    transformed_data[\"description\"] = re.sub(url_pattern, '', transformed_data[\"description\"])\n",
        "\n",
        "    # Rewrite .json files\n",
        "    with open(file, 'w') as f:\n",
        "      json.dump(transformed_data, f)"
      ],
      "metadata": {
        "id": "JGgSnx1Qy-l1"
      },
      "execution_count": 38,
      "outputs": []
    },
    {
      "cell_type": "markdown",
      "source": [
        "## Extract url title and make directory for it"
      ],
      "metadata": {
        "id": "MsTn-xiW1A8o"
      }
    },
    {
      "cell_type": "code",
      "source": [
        "def downloader(url):\n",
        "    try:\n",
        "        # Get the video title\n",
        "        result = subprocess.run([\n",
        "            'yt-dlp',\n",
        "            '--skip-download',\n",
        "            '--get-title',\n",
        "            url\n",
        "        ], capture_output=True, text=True, check=True)\n",
        "\n",
        "        # Extract the title from the result\n",
        "        title = result.stdout.strip()\n",
        "\n",
        "        # Make path to new directory including video's title\n",
        "        path = os.path.join(os.getcwd(), title)\n",
        "\n",
        "        # Check if path exists, else make one\n",
        "        if not os.path.exists(path):\n",
        "            os.makedirs(path)\n",
        "\n",
        "        # Make a list for downloading the video\n",
        "        subprocess.run([\n",
        "            'yt-dlp',\n",
        "            '--convert-thumbnails', 'jpg',\n",
        "            '--progress',\n",
        "            '--write-thumbnail',\n",
        "            '--embed-thumbnail',\n",
        "            '--add-metadata',\n",
        "            '--write-info-json',\n",
        "            '--remux-video', 'mkv',\n",
        "            '-f', 'bestvideo[height<=1080]+bestaudio/best[height<=1080]/best',\n",
        "            '-o', f'{path}/%(title)s.%(ext)s',\n",
        "            url\n",
        "        ], check=True)\n",
        "\n",
        "\n",
        "        # Rename cover image to \"cover.jpg\"\n",
        "        if os.path.exists(f'{path}/{title}.jpg'):\n",
        "          os.rename(f'{path}/{title}.jpg', f'{path}/cover.jpg')\n",
        "        else:\n",
        "          print(\"No cover image found.\")\n",
        "\n",
        "        # Change info.json file to be \"details.json\"\n",
        "        if os.path.exists(f'{path}/{title}.info.json'):\n",
        "          os.rename(f'{path}/{title}.info.json', f'{path}/details.json')\n",
        "\n",
        "          # Rewrite details.json to aniyomi style guidelines\n",
        "          filter_details(f'{path}/details.json')\n",
        "        else:\n",
        "          print(\"No info file found.\")\n",
        "\n",
        "    except subprocess.CalledProcessError as e:\n",
        "        print(f\"An error occurred: {e}\")"
      ],
      "metadata": {
        "id": "JkDqi-gAy-q3"
      },
      "execution_count": 39,
      "outputs": []
    },
    {
      "cell_type": "markdown",
      "source": [
        "## Example of aniyomi style .json file"
      ],
      "metadata": {
        "id": "KoLRfDuKPK-8"
      }
    },
    {
      "cell_type": "markdown",
      "source": [
        "\n",
        "```\n",
        "{\n",
        "\t\"title\": \"Example Title\",\n",
        "\t\"author\": \"Example Author\",\n",
        "\t\"artist\": \"Example Artist\",\n",
        "\t\"description\": \"Example Description\",\n",
        "\t\"genre\": [\"genre 1\", \"genre 2\", \"etc\"],\n",
        "\t\"status\": \"0\",\n",
        "\t\"_status values\": [\"0 = Unknown\", \"1 = Ongoing\", \"2 = Completed\", \"3 = Licensed\", \"4 = Publishing finished\", \"5 = Cancelled\", \"6 = On hiatus\"]\n",
        "}\n",
        "```\n"
      ],
      "metadata": {
        "id": "rcEfVrjsPDFQ"
      }
    },
    {
      "cell_type": "markdown",
      "source": [
        "## Zip and download files"
      ],
      "metadata": {
        "id": "h3cnmhXPUnkX"
      }
    },
    {
      "cell_type": "code",
      "source": [
        "def zip_and_download_subdirectories():\n",
        "    # Get the current working directory\n",
        "    current_directory = os.getcwd()\n",
        "\n",
        "    # Get a list of all subdirectories\n",
        "    subdirectories = [d for d in os.listdir(current_directory) if os.path.isdir(os.path.join(current_directory, d))]\n",
        "\n",
        "    # Create a zip file\n",
        "    with zipfile.ZipFile('anizip.zip', 'w') as zip_file:\n",
        "        # Iterate through each subdirectory\n",
        "        for subdirectory in subdirectories:\n",
        "            # Get a list of all files in the subdirectory\n",
        "            files_in_subdir = [os.path.join(subdirectory, f) for f in os.listdir(os.path.join(current_directory, subdirectory))]\n",
        "\n",
        "            # Iterate through each file in the subdirectory\n",
        "            for file_path in files_in_subdir:\n",
        "                # Add the file to the zip file\n",
        "                zip_file.write(os.path.join(current_directory, file_path), arcname=file_path)\n",
        "\n",
        "    # Download the zip file\n",
        "    files.download('anizip.zip')\n"
      ],
      "metadata": {
        "id": "x6pdC8FmUnZL"
      },
      "execution_count": 40,
      "outputs": []
    },
    {
      "cell_type": "markdown",
      "source": [
        "## Get urls"
      ],
      "metadata": {
        "id": "28payZcg0ABc"
      }
    },
    {
      "cell_type": "code",
      "source": [
        "if 'anizip' not in os.getcwd():\n",
        "  try:\n",
        "    os.mkdir(os.path.join(os.getcwd(), 'anizip'))\n",
        "    os.chdir(os.path.join(os.getcwd(), 'anizip'))\n",
        "  except:\n",
        "    os.chdir(os.path.join(os.getcwd(), 'anizip'))\n",
        "\n",
        "# Get urls from user\n",
        "urls = input(\"Enter urls separated by space or enter: \")\n",
        "urls = urls.split()\n",
        "\n",
        "# Download each url\n",
        "for url in urls:\n",
        "  downloader(url)\n",
        "\n",
        "# Zip files and download\n",
        "zip_and_download_subdirectories()"
      ],
      "metadata": {
        "colab": {
          "base_uri": "https://localhost:8080/",
          "height": 879
        },
        "id": "46AAmmKXy-wz",
        "outputId": "c9d2ad15-9967-452a-f4d1-7c9699d146d0",
        "collapsed": true
      },
      "execution_count": 43,
      "outputs": [
        {
          "name": "stdout",
          "output_type": "stream",
          "text": [
            "Enter urls separated by space or enter: https://www.youtube.com/watch?v=nM06J9XwY8Y&list=RDMM&start_radio=1&rv=Dh262qUpcEY\n"
          ]
        },
        {
          "output_type": "error",
          "ename": "KeyboardInterrupt",
          "evalue": "",
          "traceback": [
            "\u001b[0;31m---------------------------------------------------------------------------\u001b[0m",
            "\u001b[0;31mKeyboardInterrupt\u001b[0m                         Traceback (most recent call last)",
            "\u001b[0;32m<ipython-input-43-8a9fc533c1ed>\u001b[0m in \u001b[0;36m<cell line: 13>\u001b[0;34m()\u001b[0m\n\u001b[1;32m     12\u001b[0m \u001b[0;31m# Download each url\u001b[0m\u001b[0;34m\u001b[0m\u001b[0;34m\u001b[0m\u001b[0m\n\u001b[1;32m     13\u001b[0m \u001b[0;32mfor\u001b[0m \u001b[0murl\u001b[0m \u001b[0;32min\u001b[0m \u001b[0murls\u001b[0m\u001b[0;34m:\u001b[0m\u001b[0;34m\u001b[0m\u001b[0;34m\u001b[0m\u001b[0m\n\u001b[0;32m---> 14\u001b[0;31m   \u001b[0mdownloader\u001b[0m\u001b[0;34m(\u001b[0m\u001b[0murl\u001b[0m\u001b[0;34m)\u001b[0m\u001b[0;34m\u001b[0m\u001b[0;34m\u001b[0m\u001b[0m\n\u001b[0m\u001b[1;32m     15\u001b[0m \u001b[0;34m\u001b[0m\u001b[0m\n\u001b[1;32m     16\u001b[0m \u001b[0;31m# Zip files and download\u001b[0m\u001b[0;34m\u001b[0m\u001b[0;34m\u001b[0m\u001b[0m\n",
            "\u001b[0;32m<ipython-input-39-cceb6dac62c6>\u001b[0m in \u001b[0;36mdownloader\u001b[0;34m(url)\u001b[0m\n\u001b[1;32m      2\u001b[0m     \u001b[0;32mtry\u001b[0m\u001b[0;34m:\u001b[0m\u001b[0;34m\u001b[0m\u001b[0;34m\u001b[0m\u001b[0m\n\u001b[1;32m      3\u001b[0m         \u001b[0;31m# Get the video title\u001b[0m\u001b[0;34m\u001b[0m\u001b[0;34m\u001b[0m\u001b[0m\n\u001b[0;32m----> 4\u001b[0;31m         result = subprocess.run([\n\u001b[0m\u001b[1;32m      5\u001b[0m             \u001b[0;34m'yt-dlp'\u001b[0m\u001b[0;34m,\u001b[0m\u001b[0;34m\u001b[0m\u001b[0;34m\u001b[0m\u001b[0m\n\u001b[1;32m      6\u001b[0m             \u001b[0;34m'--skip-download'\u001b[0m\u001b[0;34m,\u001b[0m\u001b[0;34m\u001b[0m\u001b[0;34m\u001b[0m\u001b[0m\n",
            "\u001b[0;32m/usr/lib/python3.10/subprocess.py\u001b[0m in \u001b[0;36mrun\u001b[0;34m(input, capture_output, timeout, check, *popenargs, **kwargs)\u001b[0m\n\u001b[1;32m    503\u001b[0m     \u001b[0;32mwith\u001b[0m \u001b[0mPopen\u001b[0m\u001b[0;34m(\u001b[0m\u001b[0;34m*\u001b[0m\u001b[0mpopenargs\u001b[0m\u001b[0;34m,\u001b[0m \u001b[0;34m**\u001b[0m\u001b[0mkwargs\u001b[0m\u001b[0;34m)\u001b[0m \u001b[0;32mas\u001b[0m \u001b[0mprocess\u001b[0m\u001b[0;34m:\u001b[0m\u001b[0;34m\u001b[0m\u001b[0;34m\u001b[0m\u001b[0m\n\u001b[1;32m    504\u001b[0m         \u001b[0;32mtry\u001b[0m\u001b[0;34m:\u001b[0m\u001b[0;34m\u001b[0m\u001b[0;34m\u001b[0m\u001b[0m\n\u001b[0;32m--> 505\u001b[0;31m             \u001b[0mstdout\u001b[0m\u001b[0;34m,\u001b[0m \u001b[0mstderr\u001b[0m \u001b[0;34m=\u001b[0m \u001b[0mprocess\u001b[0m\u001b[0;34m.\u001b[0m\u001b[0mcommunicate\u001b[0m\u001b[0;34m(\u001b[0m\u001b[0minput\u001b[0m\u001b[0;34m,\u001b[0m \u001b[0mtimeout\u001b[0m\u001b[0;34m=\u001b[0m\u001b[0mtimeout\u001b[0m\u001b[0;34m)\u001b[0m\u001b[0;34m\u001b[0m\u001b[0;34m\u001b[0m\u001b[0m\n\u001b[0m\u001b[1;32m    506\u001b[0m         \u001b[0;32mexcept\u001b[0m \u001b[0mTimeoutExpired\u001b[0m \u001b[0;32mas\u001b[0m \u001b[0mexc\u001b[0m\u001b[0;34m:\u001b[0m\u001b[0;34m\u001b[0m\u001b[0;34m\u001b[0m\u001b[0m\n\u001b[1;32m    507\u001b[0m             \u001b[0mprocess\u001b[0m\u001b[0;34m.\u001b[0m\u001b[0mkill\u001b[0m\u001b[0;34m(\u001b[0m\u001b[0;34m)\u001b[0m\u001b[0;34m\u001b[0m\u001b[0;34m\u001b[0m\u001b[0m\n",
            "\u001b[0;32m/usr/lib/python3.10/subprocess.py\u001b[0m in \u001b[0;36mcommunicate\u001b[0;34m(self, input, timeout)\u001b[0m\n\u001b[1;32m   1152\u001b[0m \u001b[0;34m\u001b[0m\u001b[0m\n\u001b[1;32m   1153\u001b[0m             \u001b[0;32mtry\u001b[0m\u001b[0;34m:\u001b[0m\u001b[0;34m\u001b[0m\u001b[0;34m\u001b[0m\u001b[0m\n\u001b[0;32m-> 1154\u001b[0;31m                 \u001b[0mstdout\u001b[0m\u001b[0;34m,\u001b[0m \u001b[0mstderr\u001b[0m \u001b[0;34m=\u001b[0m \u001b[0mself\u001b[0m\u001b[0;34m.\u001b[0m\u001b[0m_communicate\u001b[0m\u001b[0;34m(\u001b[0m\u001b[0minput\u001b[0m\u001b[0;34m,\u001b[0m \u001b[0mendtime\u001b[0m\u001b[0;34m,\u001b[0m \u001b[0mtimeout\u001b[0m\u001b[0;34m)\u001b[0m\u001b[0;34m\u001b[0m\u001b[0;34m\u001b[0m\u001b[0m\n\u001b[0m\u001b[1;32m   1155\u001b[0m             \u001b[0;32mexcept\u001b[0m \u001b[0mKeyboardInterrupt\u001b[0m\u001b[0;34m:\u001b[0m\u001b[0;34m\u001b[0m\u001b[0;34m\u001b[0m\u001b[0m\n\u001b[1;32m   1156\u001b[0m                 \u001b[0;31m# https://bugs.python.org/issue25942\u001b[0m\u001b[0;34m\u001b[0m\u001b[0;34m\u001b[0m\u001b[0m\n",
            "\u001b[0;32m/usr/lib/python3.10/subprocess.py\u001b[0m in \u001b[0;36m_communicate\u001b[0;34m(self, input, endtime, orig_timeout)\u001b[0m\n\u001b[1;32m   2019\u001b[0m                             'failed to raise TimeoutExpired.')\n\u001b[1;32m   2020\u001b[0m \u001b[0;34m\u001b[0m\u001b[0m\n\u001b[0;32m-> 2021\u001b[0;31m                     \u001b[0mready\u001b[0m \u001b[0;34m=\u001b[0m \u001b[0mselector\u001b[0m\u001b[0;34m.\u001b[0m\u001b[0mselect\u001b[0m\u001b[0;34m(\u001b[0m\u001b[0mtimeout\u001b[0m\u001b[0;34m)\u001b[0m\u001b[0;34m\u001b[0m\u001b[0;34m\u001b[0m\u001b[0m\n\u001b[0m\u001b[1;32m   2022\u001b[0m                     \u001b[0mself\u001b[0m\u001b[0;34m.\u001b[0m\u001b[0m_check_timeout\u001b[0m\u001b[0;34m(\u001b[0m\u001b[0mendtime\u001b[0m\u001b[0;34m,\u001b[0m \u001b[0morig_timeout\u001b[0m\u001b[0;34m,\u001b[0m \u001b[0mstdout\u001b[0m\u001b[0;34m,\u001b[0m \u001b[0mstderr\u001b[0m\u001b[0;34m)\u001b[0m\u001b[0;34m\u001b[0m\u001b[0;34m\u001b[0m\u001b[0m\n\u001b[1;32m   2023\u001b[0m \u001b[0;34m\u001b[0m\u001b[0m\n",
            "\u001b[0;32m/usr/lib/python3.10/selectors.py\u001b[0m in \u001b[0;36mselect\u001b[0;34m(self, timeout)\u001b[0m\n\u001b[1;32m    414\u001b[0m         \u001b[0mready\u001b[0m \u001b[0;34m=\u001b[0m \u001b[0;34m[\u001b[0m\u001b[0;34m]\u001b[0m\u001b[0;34m\u001b[0m\u001b[0;34m\u001b[0m\u001b[0m\n\u001b[1;32m    415\u001b[0m         \u001b[0;32mtry\u001b[0m\u001b[0;34m:\u001b[0m\u001b[0;34m\u001b[0m\u001b[0;34m\u001b[0m\u001b[0m\n\u001b[0;32m--> 416\u001b[0;31m             \u001b[0mfd_event_list\u001b[0m \u001b[0;34m=\u001b[0m \u001b[0mself\u001b[0m\u001b[0;34m.\u001b[0m\u001b[0m_selector\u001b[0m\u001b[0;34m.\u001b[0m\u001b[0mpoll\u001b[0m\u001b[0;34m(\u001b[0m\u001b[0mtimeout\u001b[0m\u001b[0;34m)\u001b[0m\u001b[0;34m\u001b[0m\u001b[0;34m\u001b[0m\u001b[0m\n\u001b[0m\u001b[1;32m    417\u001b[0m         \u001b[0;32mexcept\u001b[0m \u001b[0mInterruptedError\u001b[0m\u001b[0;34m:\u001b[0m\u001b[0;34m\u001b[0m\u001b[0;34m\u001b[0m\u001b[0m\n\u001b[1;32m    418\u001b[0m             \u001b[0;32mreturn\u001b[0m \u001b[0mready\u001b[0m\u001b[0;34m\u001b[0m\u001b[0;34m\u001b[0m\u001b[0m\n",
            "\u001b[0;31mKeyboardInterrupt\u001b[0m: "
          ]
        }
      ]
    },
    {
      "cell_type": "code",
      "source": [
        "#TODO:\n",
        "  # Check if correct resolution quality is being downloaded (<= 1080p)\n",
        "  # Check if different sites meet the formatting guidelines\n",
        "  # Check if aniyomi will accept these options"
      ],
      "metadata": {
        "id": "Qbm0iSc4jdiL"
      },
      "execution_count": 42,
      "outputs": []
    }
  ]
}