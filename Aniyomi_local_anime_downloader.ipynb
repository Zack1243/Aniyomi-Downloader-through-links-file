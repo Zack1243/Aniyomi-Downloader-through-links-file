{
  "nbformat": 4,
  "nbformat_minor": 0,
  "metadata": {
    "colab": {
      "provenance": [],
      "authorship_tag": "ABX9TyOGcJUXxVYjxc7MJqUtMpH+",
      "include_colab_link": true
    },
    "kernelspec": {
      "name": "python3",
      "display_name": "Python 3"
    },
    "language_info": {
      "name": "python"
    }
  },
  "cells": [
    {
      "cell_type": "markdown",
      "metadata": {
        "id": "view-in-github",
        "colab_type": "text"
      },
      "source": [
        "<a href=\"https://colab.research.google.com/github/Zack1243/Aniyomi-Downloader-through-links-file/blob/main/Aniyomi_local_anime_downloader.ipynb\" target=\"_parent\"><img src=\"https://colab.research.google.com/assets/colab-badge.svg\" alt=\"Open In Colab\"/></a>"
      ]
    },
    {
      "cell_type": "markdown",
      "source": [
        "## Libraries"
      ],
      "metadata": {
        "id": "TrPor6WDzD1Q"
      }
    },
    {
      "cell_type": "code",
      "execution_count": 46,
      "metadata": {
        "colab": {
          "base_uri": "https://localhost:8080/"
        },
        "id": "zIV5-SKeyA1C",
        "outputId": "04f02e7d-3494-44b9-b2b0-7551711d9a6b"
      },
      "outputs": [
        {
          "output_type": "stream",
          "name": "stdout",
          "text": [
            "Requirement already satisfied: yt_dlp in /usr/local/lib/python3.10/dist-packages (2024.5.27)\n",
            "Requirement already satisfied: brotli in /usr/local/lib/python3.10/dist-packages (from yt_dlp) (1.1.0)\n",
            "Requirement already satisfied: certifi in /usr/local/lib/python3.10/dist-packages (from yt_dlp) (2024.2.2)\n",
            "Requirement already satisfied: mutagen in /usr/local/lib/python3.10/dist-packages (from yt_dlp) (1.47.0)\n",
            "Requirement already satisfied: pycryptodomex in /usr/local/lib/python3.10/dist-packages (from yt_dlp) (3.20.0)\n",
            "Requirement already satisfied: requests<3,>=2.31.0 in /usr/local/lib/python3.10/dist-packages (from yt_dlp) (2.31.0)\n",
            "Requirement already satisfied: urllib3<3,>=1.26.17 in /usr/local/lib/python3.10/dist-packages (from yt_dlp) (2.0.7)\n",
            "Requirement already satisfied: websockets>=12.0 in /usr/local/lib/python3.10/dist-packages (from yt_dlp) (12.0)\n",
            "Requirement already satisfied: charset-normalizer<4,>=2 in /usr/local/lib/python3.10/dist-packages (from requests<3,>=2.31.0->yt_dlp) (3.3.2)\n",
            "Requirement already satisfied: idna<4,>=2.5 in /usr/local/lib/python3.10/dist-packages (from requests<3,>=2.31.0->yt_dlp) (3.7)\n"
          ]
        }
      ],
      "source": [
        "import requests\n",
        "import json\n",
        "import os\n",
        "from PIL import Image\n",
        "import re\n",
        "import subprocess\n",
        "import sys\n",
        "!python3 -m pip install -U --pre \"yt-dlp[default]\"\n",
        "import yt_dlp"
      ]
    },
    {
      "cell_type": "markdown",
      "source": [
        "## Filter json file"
      ],
      "metadata": {
        "id": "XWnihHjQ4qgA"
      }
    },
    {
      "cell_type": "code",
      "source": [
        "def filter_details(file):\n",
        "  default_options = {\n",
        "    \"title\": \"\",\n",
        "    \"author\": \"\",\n",
        "    \"artist\": \"\",\n",
        "    \"description\": \"\",\n",
        "    \"genre\": [],\n",
        "    \"status\": \"0\"\n",
        "  }\n",
        "  with open(file, 'r') as f:\n",
        "    data = json.load(f)\n",
        "    transformed_data = {\n",
        "        \"title\": data.get(\"title\", \"\"),\n",
        "        \"author\": data.get(\"uploader\", \"\"),\n",
        "        \"artist\": data.get(\"uploader\", \"\"),\n",
        "        \"description\": data.get(\"description\", \"\"),\n",
        "        \"genre\": data.get(\"tags\", []),\n",
        "        \"status\": data.get(\"status\", \"0\")\n",
        "    }\n",
        "\n",
        "    url_pattern = r'https?://\\S+|www\\.\\S+'\n",
        "\n",
        "    # Replace URLs with an empty string\n",
        "    transformed_data[\"description\"] = re.sub(url_pattern, '', transformed_data[\"description\"])\n",
        "\n",
        "    with open(file, 'w') as f:\n",
        "      json.dump(transformed_data, f)"
      ],
      "metadata": {
        "id": "JGgSnx1Qy-l1"
      },
      "execution_count": 59,
      "outputs": []
    },
    {
      "cell_type": "markdown",
      "source": [
        "## Extract url title and make directory for it"
      ],
      "metadata": {
        "id": "MsTn-xiW1A8o"
      }
    },
    {
      "cell_type": "code",
      "source": [
        "def downloader(url):\n",
        "    try:\n",
        "        # Get the video title\n",
        "        result = subprocess.run([\n",
        "            'yt-dlp',\n",
        "            '--skip-download',\n",
        "            '--get-title',\n",
        "            url\n",
        "        ], capture_output=True, text=True, check=True)\n",
        "\n",
        "        # Extract the title from the result\n",
        "        title = result.stdout.strip()\n",
        "\n",
        "        # Make path to new directory including video's title\n",
        "        path = os.path.join(os.curdir, title)\n",
        "\n",
        "        # Check if path exists, else make one\n",
        "        if not os.path.exists(path):\n",
        "            os.makedirs(path)\n",
        "\n",
        "        # Make a list for downloading the video\n",
        "        subprocess.run([\n",
        "            'yt-dlp',\n",
        "            '--convert-thumbnails', 'png',\n",
        "            '--write-thumbnail',\n",
        "            '--embed-thumbnail',\n",
        "            '--add-metadata',\n",
        "            '--write-info-json',\n",
        "            '-f', 'bestvideo[height<=1080]+bestaudio/best[height<=1080]/best',\n",
        "            '-o', f'{path}/%(title)s.%(ext)s',\n",
        "            url\n",
        "        ], check=True)\n",
        "\n",
        "        # Change .png file to be \"cover.png\"\n",
        "        if os.path.exists('%(title)s.png'):\n",
        "          os.rename('%(title)s.png', 'cover.png')\n",
        "\n",
        "        # Change info.json file to be \"details.json\"\n",
        "        if os.path.exists('%(title)s.info.json'):\n",
        "          os.rename('%(title)s.info.json', 'details.json')\n",
        "          # Rewrite details.json to aniyomi style guidelines\n",
        "          filter_details('details.json')\n",
        "\n",
        "        # Return to correct directory\n",
        "        os.chdir('..')\n",
        "\n",
        "    except subprocess.CalledProcessError as e:\n",
        "        print(f\"An error occurred: {e}\")"
      ],
      "metadata": {
        "id": "JkDqi-gAy-q3"
      },
      "execution_count": 99,
      "outputs": []
    },
    {
      "cell_type": "markdown",
      "source": [
        "## Example of aniyomi style .json file"
      ],
      "metadata": {
        "id": "KoLRfDuKPK-8"
      }
    },
    {
      "cell_type": "markdown",
      "source": [
        "\n",
        "```\n",
        "{\n",
        "\t\"title\": \"Example Title\",\n",
        "\t\"author\": \"Example Author\",\n",
        "\t\"artist\": \"Example Artist\",\n",
        "\t\"description\": \"Example Description\",\n",
        "\t\"genre\": [\"genre 1\", \"genre 2\", \"etc\"],\n",
        "\t\"status\": \"0\",\n",
        "\t\"_status values\": [\"0 = Unknown\", \"1 = Ongoing\", \"2 = Completed\", \"3 = Licensed\", \"4 = Publishing finished\", \"5 = Cancelled\", \"6 = On hiatus\"]\n",
        "}\n",
        "```\n"
      ],
      "metadata": {
        "id": "rcEfVrjsPDFQ"
      }
    },
    {
      "cell_type": "markdown",
      "source": [
        "## Get urls"
      ],
      "metadata": {
        "id": "28payZcg0ABc"
      }
    },
    {
      "cell_type": "code",
      "source": [
        "# Get a list of urls\n",
        "urls = input(\"Enter urls separated by space or enter: \")\n",
        "#urls = 'https://www.youtube.com/watch?v=oDZK3_c-Vkc'\n",
        "downloader(urls)\n",
        "# Parse through urls\n",
        "urls = urls.split()"
      ],
      "metadata": {
        "colab": {
          "base_uri": "https://localhost:8080/"
        },
        "id": "46AAmmKXy-wz",
        "outputId": "359093fe-2cc5-4dd1-fdf0-104174311582",
        "collapsed": true
      },
      "execution_count": 97,
      "outputs": [
        {
          "name": "stdout",
          "output_type": "stream",
          "text": [
            "Enter urls separated by space or enter: https://www.youtube.com/watch?v=oDZK3_c-Vkc\n"
          ]
        }
      ]
    },
    {
      "cell_type": "markdown",
      "source": [],
      "metadata": {
        "id": "YMWR2iXmUQ11"
      }
    },
    {
      "cell_type": "markdown",
      "source": [],
      "metadata": {
        "id": "kT_2IRMaUQyc"
      }
    },
    {
      "cell_type": "markdown",
      "source": [],
      "metadata": {
        "id": "tOy0SUh_UQwA"
      }
    },
    {
      "cell_type": "markdown",
      "source": [],
      "metadata": {
        "id": "fAFppR1mUQtE"
      }
    },
    {
      "cell_type": "markdown",
      "source": [],
      "metadata": {
        "id": "5cCrYlMnUQpZ"
      }
    },
    {
      "cell_type": "markdown",
      "source": [],
      "metadata": {
        "id": "6wD8wZuCUQiY"
      }
    },
    {
      "cell_type": "code",
      "source": [
        "#https://github.com/ytdl-org/youtube-dl/tree/master?tab=readme-ov-file#use-convenience-conversion-and-parsing-functions\n",
        "\n",
        "\n",
        "# Get the metadata from a url\n",
        "#meta = self._download_json(url, video_id)\n",
        "\n",
        "# Extract the summary\n",
        "#description = meta.get('summary')\n",
        "\n",
        "# Useful if summary not present\n",
        "#description = self._search_regex(\n",
        "    #r'<span[^>]+id=\"title\"[^>]*>([^<]+)<',\n",
        "    #webpage, 'description', default=None)\n",
        "\n",
        "# This gets the title, or if fails can get the webpage's title\n",
        "#title = meta.get('title') or self._og_search_title(webpage)\n"
      ],
      "metadata": {
        "id": "71TkvatV5cYZ"
      },
      "execution_count": null,
      "outputs": []
    }
  ]
}